{
 "cells": [
  {
   "cell_type": "code",
   "execution_count": 1,
   "id": "04afddc6-abcd-43a3-a25c-79b58fadeb54",
   "metadata": {},
   "outputs": [
    {
     "name": "stdout",
     "output_type": "stream",
     "text": [
      "Root of f(x) is: 0.999999847386336\n",
      "Root of g(x) is: 1.4142135623730951\n"
     ]
    }
   ],
   "source": [
    "#Problem 1\n",
    "function newton_method(f, f_prime, x_0, tolerance=1e-7, maxiter=1000)\n",
    "    x_prev = x_0\n",
    "    for i in 1:maxiter\n",
    "        x_next = x_prev - f(x_prev) / f_prime(x_prev)\n",
    "        if abs(x_next - x_prev) < tolerance\n",
    "            return x_next\n",
    "        end\n",
    "        x_prev = x_next\n",
    "    end\n",
    "    error(\"Failed to converge after $maxiter iterations.\")\n",
    "end\n",
    "\n",
    "f(x) = (x - 1)^3\n",
    "f_prime(x) = 3 * (x - 1)^2\n",
    "\n",
    "g(x) = x^2 - 2\n",
    "g_prime(x) = 2x\n",
    "\n",
    "# Testing\n",
    "root_f = newton_method(f, f_prime, 0.5)  \n",
    "root_g = newton_method(g, g_prime, 1.0) \n",
    "\n",
    "println(\"Root of f(x) is: \", root_f)\n",
    "println(\"Root of g(x) is: \", root_g)  # This should approximate sqrt(2)\n",
    "\n"
   ]
  },
  {
   "cell_type": "code",
   "execution_count": 20,
   "id": "5b824bbf-f4f9-4cd0-b242-768d1ebd3d91",
   "metadata": {},
   "outputs": [
    {
     "name": "stdout",
     "output_type": "stream",
     "text": [
      "32\n",
      "49\n",
      "2\n"
     ]
    }
   ],
   "source": [
    "#Problem 2\n",
    "\n",
    "#Part 1\n",
    "function inner(x_vals,y_vals)\n",
    "    J=size(x_vals)\n",
    "    K=size(y_vals)\n",
    "    (K == J) || error(\"length not match!\")\n",
    "    return sum(x * y for (x, y) in zip(x_vals, y_vals))\n",
    "end\n",
    "    \n",
    "# Example\n",
    "x_vals = [1, 2, 3]\n",
    "y_vals = [4, 5, 6]\n",
    "result = inner(x_vals, y_vals)\n",
    "println(result)  # Outputs: 32, since 1*4 + 2*5 + 3*6 = 32        \n",
    "\n",
    "#Part 2\n",
    "a= 0\n",
    "for i in 1:99\n",
    "    if iseven(i)\n",
    "        a +=1\n",
    "    end\n",
    "end\n",
    "println(a)\n",
    "\n",
    "#Part 3\n",
    "my_pairs = ((2, 5), (4, 2), (9, 8), (12, 10))\n",
    "a=0\n",
    "for (i,j) in my_pairs\n",
    "    if iseven(i) &&iseven(j)\n",
    "        a+=1\n",
    "    end\n",
    "end\n",
    "println(a)"
   ]
  },
  {
   "cell_type": "code",
   "execution_count": 23,
   "id": "07554a7a-28a8-4e9e-83cd-ce991a6235bf",
   "metadata": {},
   "outputs": [
    {
     "name": "stdout",
     "output_type": "stream",
     "text": [
      "9.0\n"
     ]
    }
   ],
   "source": [
    "#Problem 3\n",
    "function p(x, coeff)\n",
    "    result = 0.0\n",
    "    for (i, a) in enumerate(coeff)\n",
    "        result += a * x^(i-1)\n",
    "    end\n",
    "    return result\n",
    "end\n",
    "\n",
    "# Example\n",
    "coeff = [1, -2, 3]  \n",
    "x_val = 2\n",
    "println(p(x_val, coeff)\n"
   ]
  },
  {
   "cell_type": "code",
   "execution_count": 28,
   "id": "89150b31-ad97-4eea-9661-3cd85130118a",
   "metadata": {},
   "outputs": [
    {
     "name": "stdout",
     "output_type": "stream",
     "text": [
      "2\n"
     ]
    }
   ],
   "source": [
    "#Problem 4\n",
    "\n",
    "function countcapital(s)\n",
    "    cs=uppercase(s)\n",
    "    a=0\n",
    "    for (i,j) in zip(s, cs)\n",
    "        if i==j\n",
    "            a+=1\n",
    "        end\n",
    "    end\n",
    "    return a\n",
    "end\n",
    "\n",
    "s=\"AppLe\"\n",
    "println(countcapital(s))"
   ]
  },
  {
   "cell_type": "code",
   "execution_count": 32,
   "id": "1adb1ef6-2302-4dd1-9448-1a989057a20c",
   "metadata": {},
   "outputs": [
    {
     "name": "stdout",
     "output_type": "stream",
     "text": [
      "false\n"
     ]
    }
   ],
   "source": [
    "#Problem 5\n",
    "function issubset(a,b)\n",
    "    for i in a\n",
    "        if !(i in b)\n",
    "            return false\n",
    "        end\n",
    "    end\n",
    "    return true\n",
    "end\n",
    "\n",
    "a=\"qw\"\n",
    "b=\"dsfc\"\n",
    "println(issubset(a,b))\n",
    "            "
   ]
  },
  {
   "cell_type": "markdown",
   "id": "dd4d5043-8796-411a-9c9c-074554b53c0f",
   "metadata": {},
   "source": [
    "Problem 6\n",
    "\n",
    "My intended field is economics growth. One paper I want to be able to compute is \"Catch-up and fall-back through innovation and imitation\""
   ]
  }
 ],
 "metadata": {
  "kernelspec": {
   "display_name": "Julia 1.9.3",
   "language": "julia",
   "name": "julia-1.9"
  },
  "language_info": {
   "file_extension": ".jl",
   "mimetype": "application/julia",
   "name": "julia",
   "version": "1.9.3"
  }
 },
 "nbformat": 4,
 "nbformat_minor": 5
}
